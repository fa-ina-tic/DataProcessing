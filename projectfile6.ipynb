{
 "cells": [
  {
   "cell_type": "code",
   "execution_count": 77,
   "metadata": {},
   "outputs": [],
   "source": [
    "import glob\n",
    "import os\n",
    "import pandas as pd\n",
    "import numpy as np\n",
    "\n",
    "xlxs_path = '/Users/soiji/Documents/GitHub/DataProcessing/Data'\n",
    "xlxs_list = sorted(os.listdir('Data'))"
   ]
  },
  {
   "cell_type": "code",
   "execution_count": 78,
   "metadata": {},
   "outputs": [
    {
     "data": {
      "text/plain": [
       "['1.-Badly-Structured-Sales-Data-1.xlsx',\n",
       " '2.-Badly-Structured-Sales-Data-2.xlsx',\n",
       " '3.-Badly-Structured-Sales-Data-3.xlsx',\n",
       " '4.-Badly-Structured-Sales-Data-4.xlsx',\n",
       " '5.-Jumbled-up-Customers-Details.xlsx',\n",
       " '6.-Medicine-Data-with-lumped-Quantity-and-Measure.xlsx',\n",
       " '7.-Hospital-Data-with-Mixed-Numbers-and-Characters.xlsx',\n",
       " '8.-Invoices-with-Merged-Categories-and-Merged-Amounts.xlsx']"
      ]
     },
     "execution_count": 78,
     "metadata": {},
     "output_type": "execute_result"
    }
   ],
   "source": [
    "xlxs_list"
   ]
  },
  {
   "cell_type": "code",
   "execution_count": 152,
   "metadata": {},
   "outputs": [
    {
     "name": "stdout",
     "output_type": "stream",
     "text": [
      "                         Description Quantity\n",
      "0       lotion Benzylbenzoate lotion  0Bottle\n",
      "1            Methylated spirit 100ml  0Bottle\n",
      "2  susp Magnessium Trisilicate 200ml  0Bottle\n",
      "3        Susp. Amoxicillin 125mg/5ml  0Bottle\n",
      "4       Susp. Erythromycin 125mg/5ml  0Bottle\n",
      "(2279, 2)\n"
     ]
    }
   ],
   "source": [
    "data = pd.read_excel(xlxs_path + '/' + str(xlxs_list[5]), engine='openpyxl')\n",
    "print(data.head())\n",
    "print(data.shape)"
   ]
  },
  {
   "cell_type": "code",
   "execution_count": null,
   "metadata": {},
   "outputs": [],
   "source": [
    "# solution 1 : 영문이 나오면 For 문 멈춤\n",
    "# solution 2 : 정규표현식 활용(대문자)"
   ]
  },
  {
   "cell_type": "code",
   "execution_count": 153,
   "metadata": {},
   "outputs": [],
   "source": [
    "import re\n",
    "\n",
    "number_series = data['Quantity'].astype('string')\n",
    "number_list = []\n",
    "unit_list = []\n",
    "\n",
    "\n",
    "reg = r\"[A-Z]\\w+|[a-z]\\w+\"\n",
    "for r in number_series:\n",
    "    unit = re.findall(reg, r)\n",
    "    unit_str = ''.join(unit)\n",
    "    number = r.replace(unit_str, '')\n",
    "\n",
    "    number_list.append(number)\n",
    "    unit_list.append(unit_str)\n",
    "\n",
    "data['Quantity'] = pd.Series(number_list).astype('float')\n",
    "data['Measure'] = pd.Series(unit_list).astype('string')\n",
    "\n",
    "data.to_csv('Situation6Solution1.csv', index=False, encoding='utf8')"
   ]
  },
  {
   "cell_type": "code",
   "execution_count": 149,
   "metadata": {},
   "outputs": [],
   "source": [
    "data = pd.read_excel(xlxs_path + '/' + str(xlxs_list[5]), engine='openpyxl')\n",
    "\n",
    "number_series = data['Quantity'].astype('string')\n",
    "number_list = []\n",
    "unit_list = []\n",
    "\n",
    "\n",
    "reg = r\"^[0-9]*\\.?[0-9]*\"\n",
    "for r in number_series:\n",
    "    number = re.findall(reg, r)\n",
    "    number_str = ''.join(number)\n",
    "    unit = r.replace(number_str, '')\n",
    "\n",
    "    number_list.append(number_str)\n",
    "    unit_list.append(unit)\n",
    "\n",
    "data['Quantity'] = pd.Series(number_list).astype('float')\n",
    "data['Measure'] = pd.Series(unit_list).astype('string')\n",
    "\n",
    "data.to_csv('Situation6Solution2.csv', index=False, encoding='utf8')"
   ]
  },
  {
   "cell_type": "code",
   "execution_count": null,
   "metadata": {},
   "outputs": [],
   "source": []
  }
 ],
 "metadata": {
  "kernelspec": {
   "display_name": "Python 3.9.13 64-bit",
   "language": "python",
   "name": "python3"
  },
  "language_info": {
   "codemirror_mode": {
    "name": "ipython",
    "version": 3
   },
   "file_extension": ".py",
   "mimetype": "text/x-python",
   "name": "python",
   "nbconvert_exporter": "python",
   "pygments_lexer": "ipython3",
   "version": "3.9.13"
  },
  "orig_nbformat": 4,
  "vscode": {
   "interpreter": {
    "hash": "b0fa6594d8f4cbf19f97940f81e996739fb7646882a419484c72d19e05852a7e"
   }
  }
 },
 "nbformat": 4,
 "nbformat_minor": 2
}
