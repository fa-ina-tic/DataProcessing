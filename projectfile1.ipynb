{
 "cells": [
  {
   "cell_type": "code",
   "execution_count": 1,
   "metadata": {},
   "outputs": [],
   "source": [
    "import glob\n",
    "import os"
   ]
  },
  {
   "cell_type": "code",
   "execution_count": 2,
   "metadata": {},
   "outputs": [],
   "source": [
    "xlxs_path = '/Users/soiji/Library/CloudStorage/GoogleDrive-sooh0601@gmail.com/내 드라이브/Data Study/Data Preprocessing Practice/Data'\n",
    "xlxs_list = os.listdir('Data')"
   ]
  },
  {
   "cell_type": "code",
   "execution_count": 3,
   "metadata": {},
   "outputs": [],
   "source": [
    "import pandas as pd\n",
    "import numpy as np"
   ]
  },
  {
   "cell_type": "markdown",
   "metadata": {},
   "source": [
    "### Problem 1\n",
    "Re-arrange data into the correct four columns\n",
    "Columns would be = Segment, Ship Mode, OrderID, Sales\n",
    "Delete Grand Totals and Sub Totals Data"
   ]
  },
  {
   "cell_type": "code",
   "execution_count": 4,
   "metadata": {},
   "outputs": [],
   "source": [
    "data = pd.read_excel(xlxs_path + '/' + str(xlxs_list[0]), engine='openpyxl')"
   ]
  },
  {
   "cell_type": "markdown",
   "metadata": {},
   "source": [
    "전략을 구성해보자.\n",
    "테이블이 아예 피봇된 형태인거 아님?\n",
    "index = OrderID\n",
    "colum = Segment, Shipmode\n",
    "Value = Cost"
   ]
  },
  {
   "cell_type": "code",
   "execution_count": 5,
   "metadata": {},
   "outputs": [],
   "source": [
    "# 필요없는 총합 데이터부터 제거합시다\n",
    "drop_col = [c for c in data.columns if 'Total' in c]\n",
    "data.drop(drop_col, axis=1, inplace=True)\n",
    "data.drop(824, axis=0, inplace=True)"
   ]
  },
  {
   "cell_type": "code",
   "execution_count": 6,
   "metadata": {},
   "outputs": [],
   "source": [
    "# Segment에 따라 Table 분류합시다\n",
    "df_consumer = data.iloc[:, [0, 1, 2, 3, 4]].copy()\n",
    "df_corporate = data.iloc[:, [0, 5, 6, 7, 8]].copy()\n",
    "df_homeoffice = data.iloc[:, [0, 9, 10, 11, 12]].copy()\n",
    "\n",
    "# LOOP 변수 정의\n",
    "df_list = [df_consumer, df_corporate, df_homeoffice]\n",
    "df_name = ['df_consumer', 'df_corporate', 'df_homeoffice']\n",
    "\n",
    "final_frame = pd.DataFrame([])\n",
    "\n",
    "# Table Name 지정\n",
    "for i, d in enumerate(df_list):\n",
    "    d.name = df_name[i]\n",
    "\n",
    "# Table 편집\n",
    "for df in df_list:\n",
    "    name = df.name[3:]\n",
    "    new_col = df.iloc[0].tolist()[1:]\n",
    "    new_index = pd.Series(df.iloc[2:, 0].tolist(), name='Order ID')\n",
    "    value = df.iloc[2:,1:].to_numpy()\n",
    "    df = pd.DataFrame(data = value, index = new_index, columns = new_col)\n",
    "\n",
    "    df['Ship Mode'] = np.where(df['First Class'].isna() == False, 'First Class', np.where(df['Same Day'].isna() == False, 'Same Day', \n",
    "    np.where(df['Second Class'].isna() == False, 'Second Class', np.where(df['Standard Class'].isna() == False, 'Standard Class', None))))\n",
    "    df['Sales'] = np.where(df['First Class'].isna() == False, df['First Class'], np.where(df['Same Day'].isna() == False, df['Same Day'], \n",
    "    np.where(df['Second Class'].isna() == False, df['Second Class'], np.where(df['Standard Class'].isna() == False, df['Standard Class'], None)))) \n",
    "    df['Segment'] = name\n",
    "\n",
    "    df.drop(columns = df.columns[0:4], inplace=True)\n",
    "    df = df[df['Ship Mode'].isna() == False]\n",
    "    final_frame = pd.concat([final_frame, df])"
   ]
  },
  {
   "cell_type": "code",
   "execution_count": 7,
   "metadata": {},
   "outputs": [],
   "source": [
    "final_frame = final_frame.reset_index().set_index('Segment')[['Ship Mode', 'Order ID', 'Sales']]"
   ]
  },
  {
   "cell_type": "code",
   "execution_count": 8,
   "metadata": {},
   "outputs": [
    {
     "data": {
      "text/html": [
       "<div>\n",
       "<style scoped>\n",
       "    .dataframe tbody tr th:only-of-type {\n",
       "        vertical-align: middle;\n",
       "    }\n",
       "\n",
       "    .dataframe tbody tr th {\n",
       "        vertical-align: top;\n",
       "    }\n",
       "\n",
       "    .dataframe thead th {\n",
       "        text-align: right;\n",
       "    }\n",
       "</style>\n",
       "<table border=\"1\" class=\"dataframe\">\n",
       "  <thead>\n",
       "    <tr style=\"text-align: right;\">\n",
       "      <th></th>\n",
       "      <th>Ship Mode</th>\n",
       "      <th>Order ID</th>\n",
       "      <th>Sales</th>\n",
       "    </tr>\n",
       "    <tr>\n",
       "      <th>Segment</th>\n",
       "      <th></th>\n",
       "      <th></th>\n",
       "      <th></th>\n",
       "    </tr>\n",
       "  </thead>\n",
       "  <tbody>\n",
       "    <tr>\n",
       "      <th>consumer</th>\n",
       "      <td>Second Class</td>\n",
       "      <td>CA-2011-100706</td>\n",
       "      <td>129.44</td>\n",
       "    </tr>\n",
       "    <tr>\n",
       "      <th>consumer</th>\n",
       "      <td>Standard Class</td>\n",
       "      <td>CA-2011-100895</td>\n",
       "      <td>605.47</td>\n",
       "    </tr>\n",
       "    <tr>\n",
       "      <th>consumer</th>\n",
       "      <td>Second Class</td>\n",
       "      <td>CA-2011-101266</td>\n",
       "      <td>13.36</td>\n",
       "    </tr>\n",
       "    <tr>\n",
       "      <th>consumer</th>\n",
       "      <td>First Class</td>\n",
       "      <td>CA-2011-103366</td>\n",
       "      <td>149.95</td>\n",
       "    </tr>\n",
       "    <tr>\n",
       "      <th>consumer</th>\n",
       "      <td>Standard Class</td>\n",
       "      <td>CA-2011-104283</td>\n",
       "      <td>616.14</td>\n",
       "    </tr>\n",
       "    <tr>\n",
       "      <th>...</th>\n",
       "      <td>...</td>\n",
       "      <td>...</td>\n",
       "      <td>...</td>\n",
       "    </tr>\n",
       "    <tr>\n",
       "      <th>homeoffice</th>\n",
       "      <td>Standard Class</td>\n",
       "      <td>US-2014-132675</td>\n",
       "      <td>148.16</td>\n",
       "    </tr>\n",
       "    <tr>\n",
       "      <th>homeoffice</th>\n",
       "      <td>Second Class</td>\n",
       "      <td>US-2014-148768</td>\n",
       "      <td>71.976</td>\n",
       "    </tr>\n",
       "    <tr>\n",
       "      <th>homeoffice</th>\n",
       "      <td>Standard Class</td>\n",
       "      <td>US-2014-156083</td>\n",
       "      <td>9.664</td>\n",
       "    </tr>\n",
       "    <tr>\n",
       "      <th>homeoffice</th>\n",
       "      <td>Second Class</td>\n",
       "      <td>US-2014-159205</td>\n",
       "      <td>732.93</td>\n",
       "    </tr>\n",
       "    <tr>\n",
       "      <th>homeoffice</th>\n",
       "      <td>First Class</td>\n",
       "      <td>US-2014-162558</td>\n",
       "      <td>2437.672</td>\n",
       "    </tr>\n",
       "  </tbody>\n",
       "</table>\n",
       "<p>822 rows × 3 columns</p>\n",
       "</div>"
      ],
      "text/plain": [
       "                 Ship Mode        Order ID     Sales\n",
       "Segment                                             \n",
       "consumer      Second Class  CA-2011-100706    129.44\n",
       "consumer    Standard Class  CA-2011-100895    605.47\n",
       "consumer      Second Class  CA-2011-101266     13.36\n",
       "consumer       First Class  CA-2011-103366    149.95\n",
       "consumer    Standard Class  CA-2011-104283    616.14\n",
       "...                    ...             ...       ...\n",
       "homeoffice  Standard Class  US-2014-132675    148.16\n",
       "homeoffice    Second Class  US-2014-148768    71.976\n",
       "homeoffice  Standard Class  US-2014-156083     9.664\n",
       "homeoffice    Second Class  US-2014-159205    732.93\n",
       "homeoffice     First Class  US-2014-162558  2437.672\n",
       "\n",
       "[822 rows x 3 columns]"
      ]
     },
     "execution_count": 8,
     "metadata": {},
     "output_type": "execute_result"
    }
   ],
   "source": [
    "final_frame"
   ]
  },
  {
   "cell_type": "code",
   "execution_count": 9,
   "metadata": {},
   "outputs": [],
   "source": [
    "final_frame.to_csv('Situtation1Solution1.csv', float_format=\"%g\")"
   ]
  },
  {
   "cell_type": "code",
   "execution_count": 10,
   "metadata": {},
   "outputs": [],
   "source": [
    "final_frame['Sales'] = final_frame['Sales'].astype('float')"
   ]
  },
  {
   "cell_type": "code",
   "execution_count": 11,
   "metadata": {},
   "outputs": [],
   "source": [
    "#multi level indexing 활용\n",
    "\n",
    "col_1 = ['Consumer', 'Corporate','Home Office']\n",
    "col_2 = ['First Class', 'Same Day', 'Second Class', 'Standard Class']\n",
    "cols = pd.MultiIndex.from_product([col_1, col_2], names=['Segment', 'Ship Mode'])\n",
    "index = pd.Series(data.iloc[2:, 0].tolist(), name='Order ID')\n",
    "\n",
    "value = data.iloc[2:, 1:].copy().to_numpy()\n",
    "\n",
    "df = pd.DataFrame(data=value, columns=cols, index=index)\n"
   ]
  },
  {
   "cell_type": "code",
   "execution_count": 12,
   "metadata": {},
   "outputs": [],
   "source": [
    "pivot_table = pd.DataFrame(df.unstack().dropna())\n",
    "pivot_table.columns = ['Sales']\n",
    "pivot_table = pivot_table.reset_index().set_index('Segment')"
   ]
  },
  {
   "cell_type": "code",
   "execution_count": 13,
   "metadata": {},
   "outputs": [
    {
     "data": {
      "text/html": [
       "<div>\n",
       "<style scoped>\n",
       "    .dataframe tbody tr th:only-of-type {\n",
       "        vertical-align: middle;\n",
       "    }\n",
       "\n",
       "    .dataframe tbody tr th {\n",
       "        vertical-align: top;\n",
       "    }\n",
       "\n",
       "    .dataframe thead th {\n",
       "        text-align: right;\n",
       "    }\n",
       "</style>\n",
       "<table border=\"1\" class=\"dataframe\">\n",
       "  <thead>\n",
       "    <tr style=\"text-align: right;\">\n",
       "      <th></th>\n",
       "      <th>Ship Mode</th>\n",
       "      <th>Order ID</th>\n",
       "      <th>Sales</th>\n",
       "    </tr>\n",
       "    <tr>\n",
       "      <th>Segment</th>\n",
       "      <th></th>\n",
       "      <th></th>\n",
       "      <th></th>\n",
       "    </tr>\n",
       "  </thead>\n",
       "  <tbody>\n",
       "    <tr>\n",
       "      <th>Consumer</th>\n",
       "      <td>First Class</td>\n",
       "      <td>CA-2011-103366</td>\n",
       "      <td>149.95</td>\n",
       "    </tr>\n",
       "    <tr>\n",
       "      <th>Consumer</th>\n",
       "      <td>First Class</td>\n",
       "      <td>CA-2011-109043</td>\n",
       "      <td>243.6</td>\n",
       "    </tr>\n",
       "    <tr>\n",
       "      <th>Consumer</th>\n",
       "      <td>First Class</td>\n",
       "      <td>CA-2011-113166</td>\n",
       "      <td>9.568</td>\n",
       "    </tr>\n",
       "    <tr>\n",
       "      <th>Consumer</th>\n",
       "      <td>First Class</td>\n",
       "      <td>CA-2011-124023</td>\n",
       "      <td>8.96</td>\n",
       "    </tr>\n",
       "    <tr>\n",
       "      <th>Consumer</th>\n",
       "      <td>First Class</td>\n",
       "      <td>CA-2011-130155</td>\n",
       "      <td>34.2</td>\n",
       "    </tr>\n",
       "    <tr>\n",
       "      <th>...</th>\n",
       "      <td>...</td>\n",
       "      <td>...</td>\n",
       "      <td>...</td>\n",
       "    </tr>\n",
       "    <tr>\n",
       "      <th>Home Office</th>\n",
       "      <td>Standard Class</td>\n",
       "      <td>US-2014-129224</td>\n",
       "      <td>4.608</td>\n",
       "    </tr>\n",
       "    <tr>\n",
       "      <th>Home Office</th>\n",
       "      <td>Standard Class</td>\n",
       "      <td>US-2014-132031</td>\n",
       "      <td>513.496</td>\n",
       "    </tr>\n",
       "    <tr>\n",
       "      <th>Home Office</th>\n",
       "      <td>Standard Class</td>\n",
       "      <td>US-2014-132297</td>\n",
       "      <td>598.31</td>\n",
       "    </tr>\n",
       "    <tr>\n",
       "      <th>Home Office</th>\n",
       "      <td>Standard Class</td>\n",
       "      <td>US-2014-132675</td>\n",
       "      <td>148.16</td>\n",
       "    </tr>\n",
       "    <tr>\n",
       "      <th>Home Office</th>\n",
       "      <td>Standard Class</td>\n",
       "      <td>US-2014-156083</td>\n",
       "      <td>9.664</td>\n",
       "    </tr>\n",
       "  </tbody>\n",
       "</table>\n",
       "<p>822 rows × 3 columns</p>\n",
       "</div>"
      ],
      "text/plain": [
       "                  Ship Mode        Order ID    Sales\n",
       "Segment                                             \n",
       "Consumer        First Class  CA-2011-103366   149.95\n",
       "Consumer        First Class  CA-2011-109043    243.6\n",
       "Consumer        First Class  CA-2011-113166    9.568\n",
       "Consumer        First Class  CA-2011-124023     8.96\n",
       "Consumer        First Class  CA-2011-130155     34.2\n",
       "...                     ...             ...      ...\n",
       "Home Office  Standard Class  US-2014-129224    4.608\n",
       "Home Office  Standard Class  US-2014-132031  513.496\n",
       "Home Office  Standard Class  US-2014-132297   598.31\n",
       "Home Office  Standard Class  US-2014-132675   148.16\n",
       "Home Office  Standard Class  US-2014-156083    9.664\n",
       "\n",
       "[822 rows x 3 columns]"
      ]
     },
     "execution_count": 13,
     "metadata": {},
     "output_type": "execute_result"
    }
   ],
   "source": [
    "pivot_table"
   ]
  },
  {
   "cell_type": "code",
   "execution_count": 16,
   "metadata": {},
   "outputs": [],
   "source": [
    "pivot_table['Sales'] = pivot_table['Sales'].astype('float')"
   ]
  },
  {
   "cell_type": "code",
   "execution_count": 17,
   "metadata": {},
   "outputs": [],
   "source": [
    "pivot_table.to_csv('Situtation1Solution2.csv', float_format='%g')"
   ]
  },
  {
   "cell_type": "code",
   "execution_count": null,
   "metadata": {},
   "outputs": [],
   "source": []
  }
 ],
 "metadata": {
  "kernelspec": {
   "display_name": "Python 3.9.13 64-bit",
   "language": "python",
   "name": "python3"
  },
  "language_info": {
   "codemirror_mode": {
    "name": "ipython",
    "version": 3
   },
   "file_extension": ".py",
   "mimetype": "text/x-python",
   "name": "python",
   "nbconvert_exporter": "python",
   "pygments_lexer": "ipython3",
   "version": "3.9.13"
  },
  "orig_nbformat": 4,
  "vscode": {
   "interpreter": {
    "hash": "b0fa6594d8f4cbf19f97940f81e996739fb7646882a419484c72d19e05852a7e"
   }
  }
 },
 "nbformat": 4,
 "nbformat_minor": 2
}
