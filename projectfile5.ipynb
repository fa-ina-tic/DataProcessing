{
 "cells": [
  {
   "cell_type": "code",
   "execution_count": 1,
   "metadata": {},
   "outputs": [],
   "source": [
    "import glob\n",
    "import os\n",
    "import pandas as pd\n",
    "import numpy as np\n",
    "\n",
    "xlxs_path = '/Users/soiji/Documents/GitHub/DataProcessing/Data'\n",
    "xlxs_list = sorted(os.listdir('Data'))"
   ]
  },
  {
   "cell_type": "markdown",
   "metadata": {},
   "source": []
  },
  {
   "cell_type": "code",
   "execution_count": 61,
   "metadata": {},
   "outputs": [
    {
     "name": "stdout",
     "output_type": "stream",
     "text": [
      "0    Name Hussein Hakeem Address Number 22 Fioye Cr...\n",
      "1    Name Arojoye Samuel Address 11 Omolade Close O...\n",
      "2    Name Alex Ezurum Address 1 Adamu Lane, Abuja A...\n",
      "3    Name Susan Nwaimo Address Number 58 Yaba Stree...\n",
      "4    Name Ajao Opeyemi Address No12 Olubunmi Street...\n",
      "Name: 0, dtype: object\n",
      "(8,)\n"
     ]
    }
   ],
   "source": [
    "data = pd.read_excel(xlxs_path + '/' + str(xlxs_list[4]), header=None, engine='openpyxl').squeeze()\n",
    "print(data.head())\n",
    "print(data.shape)"
   ]
  },
  {
   "cell_type": "code",
   "execution_count": 65,
   "metadata": {},
   "outputs": [],
   "source": [
    "col = ['Name', 'Address', 'Age', 'Gender']\n",
    "df = pd.DataFrame(columns=col)\n",
    "\n",
    "\n",
    "for i in range(0, 8):\n",
    "    row = data[i]\n",
    "    for c in col:\n",
    "        row = row.replace(c, '/')\n",
    "    row = row.strip('/')\n",
    "    row = row.split('/')\n",
    "    row = [i.strip() for i in row]\n",
    "    df = pd.concat([df, pd.DataFrame([row], columns=col)], axis=0)"
   ]
  },
  {
   "cell_type": "code",
   "execution_count": 71,
   "metadata": {},
   "outputs": [
    {
     "data": {
      "text/html": [
       "<div>\n",
       "<style scoped>\n",
       "    .dataframe tbody tr th:only-of-type {\n",
       "        vertical-align: middle;\n",
       "    }\n",
       "\n",
       "    .dataframe tbody tr th {\n",
       "        vertical-align: top;\n",
       "    }\n",
       "\n",
       "    .dataframe thead th {\n",
       "        text-align: right;\n",
       "    }\n",
       "</style>\n",
       "<table border=\"1\" class=\"dataframe\">\n",
       "  <thead>\n",
       "    <tr style=\"text-align: right;\">\n",
       "      <th></th>\n",
       "      <th>Name</th>\n",
       "      <th>Address</th>\n",
       "      <th>Age</th>\n",
       "      <th>Gender</th>\n",
       "    </tr>\n",
       "  </thead>\n",
       "  <tbody>\n",
       "    <tr>\n",
       "      <th>0</th>\n",
       "      <td>Hussein Hakeem</td>\n",
       "      <td>Number 22 Fioye Crescent Surulere Lagos</td>\n",
       "      <td>17</td>\n",
       "      <td>Male</td>\n",
       "    </tr>\n",
       "    <tr>\n",
       "      <th>1</th>\n",
       "      <td>Arojoye Samuel</td>\n",
       "      <td>11 Omolade Close Omole Estate Lagos</td>\n",
       "      <td>16</td>\n",
       "      <td>Male</td>\n",
       "    </tr>\n",
       "    <tr>\n",
       "      <th>2</th>\n",
       "      <td>Alex Ezurum</td>\n",
       "      <td>1 Adamu Lane, Abuja</td>\n",
       "      <td>14</td>\n",
       "      <td>Male</td>\n",
       "    </tr>\n",
       "    <tr>\n",
       "      <th>3</th>\n",
       "      <td>Susan Nwaimo</td>\n",
       "      <td>Number 58 Yaba Street, Kaduna State</td>\n",
       "      <td>16</td>\n",
       "      <td>Female</td>\n",
       "    </tr>\n",
       "    <tr>\n",
       "      <th>4</th>\n",
       "      <td>Ajao Opeyemi</td>\n",
       "      <td>No12 Olubunmi Street, Abeokuta</td>\n",
       "      <td>18</td>\n",
       "      <td>Female</td>\n",
       "    </tr>\n",
       "    <tr>\n",
       "      <th>5</th>\n",
       "      <td>Banjoko Adebusola</td>\n",
       "      <td>34 Ngige Street, Ugheli, Delta</td>\n",
       "      <td>14</td>\n",
       "      <td>Female</td>\n",
       "    </tr>\n",
       "    <tr>\n",
       "      <th>6</th>\n",
       "      <td>Muhammed Olabisi</td>\n",
       "      <td>13, ICAN road, Enugu</td>\n",
       "      <td>12</td>\n",
       "      <td>Female</td>\n",
       "    </tr>\n",
       "    <tr>\n",
       "      <th>7</th>\n",
       "      <td>Oluwagbemi Mojisola</td>\n",
       "      <td>ACCA Lane, Onitsha</td>\n",
       "      <td>13</td>\n",
       "      <td>Female</td>\n",
       "    </tr>\n",
       "  </tbody>\n",
       "</table>\n",
       "</div>"
      ],
      "text/plain": [
       "                  Name                                  Address Age  Gender\n",
       "0       Hussein Hakeem  Number 22 Fioye Crescent Surulere Lagos  17    Male\n",
       "1       Arojoye Samuel      11 Omolade Close Omole Estate Lagos  16    Male\n",
       "2          Alex Ezurum                      1 Adamu Lane, Abuja  14    Male\n",
       "3         Susan Nwaimo      Number 58 Yaba Street, Kaduna State  16  Female\n",
       "4         Ajao Opeyemi           No12 Olubunmi Street, Abeokuta  18  Female\n",
       "5    Banjoko Adebusola           34 Ngige Street, Ugheli, Delta  14  Female\n",
       "6     Muhammed Olabisi                     13, ICAN road, Enugu  12  Female\n",
       "7  Oluwagbemi Mojisola                       ACCA Lane, Onitsha  13  Female"
      ]
     },
     "execution_count": 71,
     "metadata": {},
     "output_type": "execute_result"
    }
   ],
   "source": [
    "df = df.reset_index(drop=True)\n",
    "df"
   ]
  },
  {
   "cell_type": "code",
   "execution_count": 72,
   "metadata": {},
   "outputs": [],
   "source": [
    "df.to_csv('Situtation5Solution1.csv', index=False)"
   ]
  },
  {
   "cell_type": "code",
   "execution_count": null,
   "metadata": {},
   "outputs": [],
   "source": []
  }
 ],
 "metadata": {
  "kernelspec": {
   "display_name": "Python 3.9.13 64-bit",
   "language": "python",
   "name": "python3"
  },
  "language_info": {
   "codemirror_mode": {
    "name": "ipython",
    "version": 3
   },
   "file_extension": ".py",
   "mimetype": "text/x-python",
   "name": "python",
   "nbconvert_exporter": "python",
   "pygments_lexer": "ipython3",
   "version": "3.9.13"
  },
  "orig_nbformat": 4,
  "vscode": {
   "interpreter": {
    "hash": "b0fa6594d8f4cbf19f97940f81e996739fb7646882a419484c72d19e05852a7e"
   }
  }
 },
 "nbformat": 4,
 "nbformat_minor": 2
}
